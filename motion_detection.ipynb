{
  "cells": [
    {
      "cell_type": "code",
      "execution_count": 21,
      "metadata": {
        "id": "oPXPLVByZfvH"
      },
      "outputs": [],
      "source": [
        "import numpy as np\n",
        "import cv2"
      ]
    },
    {
      "cell_type": "code",
      "execution_count": 22,
      "metadata": {
        "id": "2B3lgqggaX8G"
      },
      "outputs": [],
      "source": [
        "cap = cv2.VideoCapture('/content/goldfish.mp4')"
      ]
    },
    {
      "cell_type": "code",
      "execution_count": 23,
      "metadata": {
        "colab": {
          "base_uri": "https://localhost:8080/"
        },
        "id": "w-x-gXL0a1-U",
        "outputId": "283366c8-0c7b-42aa-a1e4-8e1a14934c9d"
      },
      "outputs": [
        {
          "output_type": "stream",
          "name": "stdout",
          "text": [
            "Video frame width is:  636 and frame height is:  360\n"
          ]
        }
      ],
      "source": [
        "frame_width = int(cap.get(cv2.CAP_PROP_FRAME_WIDTH))\n",
        "frame_height = int(cap.get(cv2.CAP_PROP_FRAME_HEIGHT))\n",
        "print(\"Video frame width is: \", frame_width, \"and frame height is: \", frame_height)"
      ]
    },
    {
      "cell_type": "code",
      "execution_count": 24,
      "metadata": {
        "id": "SYONLpJSbeph"
      },
      "outputs": [],
      "source": [
        "fourcc = cv2.VideoWriter_fourcc('X', 'V', 'I', 'D')\n",
        "out = cv2.VideoWriter(\"output.mp4\", fourcc, 30, (636, 360))"
      ]
    },
    {
      "cell_type": "code",
      "execution_count": 25,
      "metadata": {
        "colab": {
          "base_uri": "https://localhost:8080/"
        },
        "id": "tyPK2v-icOoq",
        "outputId": "5797c9c8-0cd2-4693-e3cc-5cadda27a514"
      },
      "outputs": [
        {
          "output_type": "stream",
          "name": "stdout",
          "text": [
            "(360, 636, 3)\n"
          ]
        }
      ],
      "source": [
        "ret, frame1 = cap.read()\n",
        "ret, frame2 = cap.read()\n",
        "print(frame1.shape)"
      ]
    },
    {
      "cell_type": "code",
      "execution_count": null,
      "metadata": {
        "id": "DV-rjEKoc_3U"
      },
      "outputs": [],
      "source": [
        "while cap.isOpened():\n",
        "  diff = cv2.absdiff(frame1, frame2) # difference of change between two frames to detect motion\n",
        "  gray = cv2.cvtColor(diff, cv2.COLOR_BGR2GRAY) # grayscaling \n",
        "  blur = cv2.GaussianBlur(gray, (5,5), 0) ## bluring to remove noise using gaussian blur filter\n",
        "  _, thresh = cv2.threshold(blur, 60, 255, cv2.THRESH_BINARY) ## threshold of detection with a value of 60 on grayscale\n",
        "  dialated = cv2.dilate(thresh, None, iterations = 10)\n",
        "  contours, _ = cv2.findContours(dialated, cv2.RETR_TREE, cv2.CHAIN_APPROX_NONE)\n",
        "\n",
        "  for contour in contours:\n",
        "    (x_cor, y_cor, W, H) = cv2.boundingRect(contour)\n",
        "    if cv2.contourArea(contour) < 400:\n",
        "      continue\n",
        "    cv2.rectangle(frame1, (x_cor, y_cor), (x_cor+W, y_cor+H), (0, 255, 0), 2)\n",
        "    cv2.putText(frame1, \"Status: {}\".format('Movement'), (10, 20), cv2.FONT_HERSHEY_SIMPLEX, 1, (0, 0, 255), 2)\n",
        "\n",
        "    img_frame = cv2.resize(frame1, (636, 360))\n",
        "    out.write(img_frame)\n",
        "    from google.colab.patches import cv2_imshow\n",
        "    cv2_imshow(frame1)\n",
        "\n",
        "    frame1 = frame2\n",
        "    ret, frame2 = cap.read()\n",
        "\n",
        "    if cv2.waitKey(60) == 27:\n",
        "      break\n",
        "\n",
        "cv2.destroyAllWindows()\n",
        "cap.release()\n",
        "out.release()\n"
      ]
    },
    {
      "cell_type": "code",
      "execution_count": null,
      "metadata": {
        "id": "IZNvds7Hgodk"
      },
      "outputs": [],
      "source": []
    }
  ],
  "metadata": {
    "colab": {
      "provenance": []
    },
    "kernelspec": {
      "display_name": "Python 3",
      "name": "python3"
    },
    "language_info": {
      "name": "python"
    }
  },
  "nbformat": 4,
  "nbformat_minor": 0
}